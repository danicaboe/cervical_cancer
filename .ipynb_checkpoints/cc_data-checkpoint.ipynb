{
 "cells": [
  {
   "cell_type": "code",
   "execution_count": 5,
   "metadata": {},
   "outputs": [],
   "source": [
    "import csv\n",
    "# Importing additional libraries\n",
    "import pandas as pd\n",
    "import numpy as np\n",
    "# create a variable to store our csv file\n",
    "cc_file = '../data_files/kag_risk_factors_cervical_cancer.csv'\n",
    "# empty array to append deleted rows to\n",
    "deleted_rows = []\n",
    "\n",
    "# function to apply to our data that returns an array of rows (in dictionaries) without rows with 20 or more '?'s\n",
    "# Appends the deleted rows to deleted_rows array\n",
    "def delete_row(file):\n",
    "    # array to append rows that don't have 20 or more '?'s\n",
    "    to_keep = []\n",
    "    # counter to keep track of how many question marks are in each row\n",
    "    count = 0\n",
    "    # opening file and creating dictionary of file contents in variable data\n",
    "    with open(file) as cc_data:\n",
    "        data = csv.DictReader(cc_data)\n",
    "        # iterating each row of data (row content is lumped into a dictionary of key value pairs)\n",
    "        for row in data:\n",
    "            # resetting counter after each row of data is iterated through\n",
    "            count = 0\n",
    "            # iterating through each key/value pair in each row\n",
    "            for key,value in row.items():\n",
    "                # checkin to see if value in row is '?'\n",
    "                if value == '?':\n",
    "                    # for each value in a row that is a '?' - counter adds one\n",
    "                    count += 1\n",
    "                    # if there are 20 or more '?' in a row - that row is appended to deleted_rows array\n",
    "                    if count >= 20:\n",
    "                        deleted_rows.append(row)\n",
    "            # once whole row is evaluated - if count is less that 20, that row is appended to to_keep array\n",
    "            if count < 20:\n",
    "                to_keep.append(row)\n",
    "    # to_keep is array of all rows that have less than 20 '?'\n",
    "    return to_keep\n",
    "# array of all rows with less than 20 question-marks is saved to rows_cleaned variable to be used from now on.\n",
    "rows_cleaned = delete_row(cc_file)\n",
    "# print(rows_cleaned)"
   ]
  },
  {
   "cell_type": "code",
   "execution_count": 6,
   "metadata": {},
   "outputs": [
    {
     "name": "stdout",
     "output_type": "stream",
     "text": [
      "763\n",
      "123\n"
     ]
    }
   ],
   "source": [
    "# amount of 'rows' kept and deleted.\n",
    "print(len(rows_cleaned))\n",
    "print(len(deleted_rows))"
   ]
  },
  {
   "cell_type": "markdown",
   "metadata": {},
   "source": [
    "\n",
    "I want to make a list of categories, and then print out the ones i will be working on the cleaning."
   ]
  },
  {
   "cell_type": "code",
   "execution_count": null,
   "metadata": {},
   "outputs": [
    {
     "name": "stdout",
     "output_type": "stream",
     "text": [
      "All categories are: ['Age', 'Number of sexual partners', 'First sexual intercourse', 'Num of pregnancies', 'Smokes', 'Smokes (years)', 'Smokes (packs/year)', 'Hormonal Contraceptives', 'Hormonal Contraceptives (years)', 'IUD', 'IUD (years)', 'STDs', 'STDs (number)', 'STDs:condylomatosis', 'STDs:cervical condylomatosis', 'STDs:vaginal condylomatosis', 'STDs:vulvo-perineal condylomatosis', 'STDs:syphilis', 'STDs:pelvic inflammatory disease', 'STDs:genital herpes', 'STDs:molluscum contagiosum', 'STDs:AIDS', 'STDs:HIV', 'STDs:Hepatitis B', 'STDs:HPV', 'STDs: Number of diagnosis', 'STDs: Time since first diagnosis', 'STDs: Time since last diagnosis', 'Dx:Cancer', 'Dx:CIN', 'Dx:HPV', 'Dx', 'Hinselmann', 'Schiller', 'Citology', 'Biopsy']\n",
      "\n",
      "The ones i'll be working with are: \n",
      "STDs:pelvic inflammatory disease\n",
      "STDs:genital herpes\n",
      "STDs:molluscum contagiosum\n",
      "STDs:AIDS\n",
      "STDs:HIV\n",
      "STDs:Hepatitis B\n",
      "STDs:HPV\n",
      "STDs: Number of diagnosis\n",
      "STDs: Time since first diagnosis\n"
     ]
    }
   ],
   "source": [
    "categories = []\n",
    "for row in rows_cleaned:\n",
    "    for key in row.keys():\n",
    "        if key not in categories:\n",
    "            categories.append(key)\n",
    "\n",
    "print('All categories are: ' + str(categories))\n",
    "print()\n",
    "\n",
    "# I'll be working on 18 - 26\n",
    "print(\"The ones i'll be working with are: \")\n",
    "for i in range(18,26+1):\n",
    "    print(categories[i])"
   ]
  },
  {
   "cell_type": "markdown",
   "metadata": {},
   "source": [
    "\n",
    "Once we have the categories we will be working on, we will create a function that will store data into each separete lists. The function will also convert to int of float every number in that list (they are all strings). And will remove any '?' into a 'NaN' text."
   ]
  },
  {
   "cell_type": "code",
   "execution_count": null,
   "metadata": {},
   "outputs": [],
   "source": [
    "# Create an empty list for every categorie\n",
    "STDs_pelvic_inflammatory_disease = []\n",
    "STDs_genital_herpes = []\n",
    "STDs_molluscum_contagiosum = []\n",
    "STDs_AIDS = []\n",
    "STDs_HIV = []\n",
    "STDs_Hepatitis_B = []\n",
    "STDs_HPV = []\n",
    "STDs_Number_of_diagnosis = []\n",
    "STDs_Time_since_first_diagnosis = []\n",
    "\n",
    "# Create the function that will store the data into every empty list\n",
    "# and append the value accordingly (float if it contains a dot, int if it doesn't, and 'NaN' if it's '?')\n",
    "def store_data (list, file, column):\n",
    "    for row in file:\n",
    "        if row[column] == '?':\n",
    "            list.append('NaN')\n",
    "        else:\n",
    "            if row[column].find('.') != -1:\n",
    "                list.append(float(row[column]))\n",
    "            else: \n",
    "                list.append(int(row[column]))\n",
    "    return list "
   ]
  },
  {
   "cell_type": "code",
   "execution_count": null,
   "metadata": {},
   "outputs": [
    {
     "name": "stdout",
     "output_type": "stream",
     "text": [
      "['NaN', 'NaN', 'NaN', 'NaN', 'NaN', 'NaN', 'NaN', 'NaN', 'NaN', 'NaN', 'NaN', 'NaN', 'NaN', 'NaN', 'NaN', 'NaN', 'NaN', 'NaN', 'NaN', 'NaN', 'NaN', 21.0, 2.0, 'NaN', 'NaN', 'NaN', 'NaN', 'NaN', 'NaN', 'NaN', 'NaN', 'NaN', 'NaN', 'NaN', 'NaN', 'NaN', 'NaN', 'NaN', 'NaN', 'NaN', 'NaN', 15.0, 'NaN', 'NaN', 'NaN', 'NaN', 'NaN', 'NaN', 'NaN', 'NaN', 'NaN', 'NaN', 'NaN', 'NaN', 'NaN', 'NaN', 'NaN', 'NaN', 'NaN', 19.0, 'NaN', 'NaN', 'NaN', 'NaN', 'NaN', 'NaN', 'NaN', 'NaN', 3.0, 'NaN', 'NaN', 'NaN', 'NaN', 'NaN', 'NaN', 'NaN', 12.0, 'NaN', 'NaN', 'NaN', 'NaN', 'NaN', 1.0, 'NaN', 'NaN', 'NaN', 'NaN', 'NaN', 'NaN', 'NaN', 'NaN', 'NaN', 'NaN', 'NaN', 'NaN', 'NaN', 11.0, 'NaN', 'NaN', 'NaN', 'NaN', 'NaN', 'NaN', 'NaN', 'NaN', 9.0, 'NaN', 'NaN', 'NaN', 'NaN', 'NaN', 'NaN', 'NaN', 'NaN', 'NaN', 1.0, 'NaN', 'NaN', 'NaN', 'NaN', 'NaN', 'NaN', 'NaN', 3.0, 'NaN', 'NaN', 7.0, 'NaN', 'NaN', 'NaN', 'NaN', 'NaN', 'NaN', 'NaN', 'NaN', 'NaN', 8.0, 'NaN', 'NaN', 'NaN', 'NaN', 'NaN', 'NaN', 'NaN', 'NaN', 'NaN', 'NaN', 'NaN', 'NaN', 'NaN', 'NaN', 'NaN', 3.0, 'NaN', 'NaN', 'NaN', 'NaN', 7.0, 'NaN', 'NaN', 16.0, 'NaN', 'NaN', 'NaN', 'NaN', 'NaN', 'NaN', 'NaN', 'NaN', 'NaN', 'NaN', 6.0, 2.0, 'NaN', 'NaN', 'NaN', 'NaN', 'NaN', 'NaN', 'NaN', 'NaN', 'NaN', 'NaN', 'NaN', 'NaN', 'NaN', 5.0, 7.0, 'NaN', 'NaN', 'NaN', 'NaN', 'NaN', 'NaN', 'NaN', 'NaN', 6.0, 10.0, 'NaN', 'NaN', 'NaN', 'NaN', 'NaN', 'NaN', 'NaN', 8.0, 'NaN', 4.0, 'NaN', 5.0, 'NaN', 'NaN', 'NaN', 'NaN', 'NaN', 'NaN', 2.0, 4.0, 'NaN', 'NaN', 'NaN', 'NaN', 'NaN', 'NaN', 'NaN', 'NaN', 'NaN', 'NaN', 'NaN', 'NaN', 'NaN', 'NaN', 'NaN', 'NaN', 'NaN', 'NaN', 'NaN', 'NaN', 'NaN', 'NaN', 'NaN', 'NaN', 'NaN', 'NaN', 'NaN', 'NaN', 'NaN', 'NaN', 'NaN', 'NaN', 'NaN', 'NaN', 'NaN', 'NaN', 'NaN', 'NaN', 'NaN', 'NaN', 'NaN', 'NaN', 'NaN', 'NaN', 'NaN', 'NaN', 'NaN', 'NaN', 3.0, 'NaN', 'NaN', 'NaN', 'NaN', 'NaN', 'NaN', 'NaN', 'NaN', 'NaN', 'NaN', 2.0, 'NaN', 'NaN', 'NaN', 'NaN', 'NaN', 'NaN', 'NaN', 'NaN', 'NaN', 'NaN', 'NaN', 'NaN', 1.0, 'NaN', 'NaN', 'NaN', 'NaN', 'NaN', 'NaN', 'NaN', 'NaN', 'NaN', 'NaN', 'NaN', 'NaN', 'NaN', 'NaN', 'NaN', 'NaN', 'NaN', 'NaN', 'NaN', 'NaN', 'NaN', 6.0, 'NaN', 'NaN', 'NaN', 'NaN', 'NaN', 'NaN', 'NaN', 'NaN', 'NaN', 'NaN', 'NaN', 'NaN', 'NaN', 'NaN', 'NaN', 'NaN', 'NaN', 'NaN', 3.0, 'NaN', 22.0, 'NaN', 'NaN', 'NaN', 'NaN', 'NaN', 'NaN', 2.0, 'NaN', 'NaN', 'NaN', 1.0, 'NaN', 'NaN', 'NaN', 'NaN', 21.0, 'NaN', 'NaN', 1.0, 'NaN', 'NaN', 'NaN', 'NaN', 'NaN', 'NaN', 'NaN', 3.0, 'NaN', 'NaN', 'NaN', 'NaN', 'NaN', 'NaN', 'NaN', 2.0, 'NaN', 'NaN', 'NaN', 'NaN', 4.0, 'NaN', 3.0, 'NaN', 'NaN', 'NaN', 'NaN', 'NaN', 'NaN', 'NaN', 'NaN', 'NaN', 'NaN', 'NaN', 'NaN', 'NaN', 'NaN', 'NaN', 'NaN', 'NaN', 'NaN', 1.0, 'NaN', 'NaN', 'NaN', 'NaN', 'NaN', 'NaN', 'NaN', 'NaN', 'NaN', 'NaN', 'NaN', 'NaN', 'NaN', 'NaN', 'NaN', 1.0, 'NaN', 'NaN', 'NaN', 'NaN', 'NaN', 'NaN', 'NaN', 'NaN', 'NaN', 'NaN', 'NaN', 'NaN', 'NaN', 'NaN', 'NaN', 'NaN', 'NaN', 'NaN', 'NaN', 3.0, 'NaN', 'NaN', 'NaN', 'NaN', 'NaN', 'NaN', 4.0, 'NaN', 'NaN', 'NaN', 'NaN', 'NaN', 'NaN', 7.0, 'NaN', 16.0, 'NaN', 'NaN', 'NaN', 'NaN', 'NaN', 'NaN', 'NaN', 'NaN', 'NaN', 'NaN', 'NaN', 'NaN', 'NaN', 'NaN', 'NaN', 'NaN', 'NaN', 'NaN', 'NaN', 'NaN', 'NaN', 'NaN', 'NaN', 'NaN', 'NaN', 'NaN', 1.0, 'NaN', 'NaN', 'NaN', 'NaN', 'NaN', 'NaN', 'NaN', 'NaN', 'NaN', 'NaN', 'NaN', 1.0, 'NaN', 'NaN', 'NaN', 'NaN', 'NaN', 'NaN', 1.0, 'NaN', 'NaN', 'NaN', 'NaN', 'NaN', 'NaN', 'NaN', 'NaN', 'NaN', 'NaN', 'NaN', 'NaN', 'NaN', 'NaN', 'NaN', 'NaN', 'NaN', 'NaN', 'NaN', 'NaN', 'NaN', 'NaN', 'NaN', 'NaN', 1.0, 'NaN', 'NaN', 'NaN', 'NaN', 'NaN', 'NaN', 5.0, 'NaN', 'NaN', 'NaN', 'NaN', 'NaN', 'NaN', 'NaN', 'NaN', 'NaN', 'NaN', 'NaN', 'NaN', 'NaN', 2.0, 1.0, 'NaN', 'NaN', 'NaN', 'NaN', 'NaN', 'NaN', 'NaN', 'NaN', 'NaN', 'NaN', 'NaN', 'NaN', 'NaN', 'NaN', 'NaN', 'NaN', 'NaN', 'NaN', 'NaN', 'NaN', 'NaN', 'NaN', 'NaN', 'NaN', 'NaN', 'NaN', 'NaN', 'NaN', 1.0, 'NaN', 'NaN', 19.0, 'NaN', 'NaN', 'NaN', 'NaN', 'NaN', 'NaN', 'NaN', 'NaN', 'NaN', 'NaN', 'NaN', 'NaN', 'NaN', 'NaN', 'NaN', 'NaN', 'NaN', 'NaN', 'NaN', 'NaN', 'NaN', 'NaN', 'NaN', 'NaN', 'NaN', 18.0, 'NaN', 'NaN', 'NaN', 'NaN', 'NaN', 'NaN', 'NaN', 'NaN', 'NaN', 'NaN', 3.0, 'NaN', 16.0, 'NaN', 'NaN', 'NaN', 7.0, 'NaN', 'NaN', 'NaN', 'NaN', 'NaN', 'NaN', 'NaN', 'NaN', 'NaN', 'NaN', 'NaN', 'NaN', 'NaN', 'NaN', 'NaN', 'NaN', 'NaN', 'NaN', 'NaN', 'NaN', 'NaN', 'NaN', 'NaN', 'NaN', 'NaN', 'NaN', 'NaN', 'NaN', 'NaN', 'NaN', 'NaN', 'NaN', 'NaN', 'NaN', 'NaN', 'NaN', 'NaN', 'NaN', 'NaN', 'NaN', 'NaN', 'NaN', 3.0, 'NaN', 4.0, 5.0, 'NaN', 'NaN', 'NaN', 'NaN', 'NaN', 1.0, 'NaN', 'NaN', 'NaN', 'NaN', 'NaN', 'NaN', 'NaN', 'NaN', 'NaN', 2.0, 'NaN', 'NaN', 'NaN', 'NaN', 'NaN', 2.0, 'NaN', 'NaN', 'NaN', 'NaN', 'NaN', 'NaN', 'NaN', 'NaN', 'NaN', 'NaN', 4.0, 'NaN', 'NaN', 1.0, 'NaN', 'NaN', 'NaN', 'NaN', 'NaN', 'NaN', 'NaN', 'NaN', 'NaN', 'NaN', 'NaN', 'NaN', 'NaN', 'NaN', 'NaN', 'NaN', 'NaN', 'NaN', 'NaN', 'NaN', 'NaN', 'NaN', 'NaN', 'NaN', 'NaN', 'NaN', 'NaN', 'NaN', 'NaN', 'NaN', 16.0, 'NaN', 'NaN', 'NaN', 11.0, 'NaN', 'NaN', 'NaN', 'NaN', 8.0, 'NaN', 'NaN', 'NaN', 'NaN', 'NaN', 'NaN', 'NaN', 'NaN', 'NaN', 'NaN', 'NaN', 'NaN', 'NaN', 'NaN', 'NaN', 'NaN', 'NaN', 'NaN', 'NaN', 'NaN', 'NaN', 'NaN', 'NaN', 'NaN', 'NaN', 'NaN']\n"
     ]
    }
   ],
   "source": [
    "store_data(STDs_pelvic_inflammatory_disease, rows_cleaned, 'STDs:pelvic inflammatory disease')\n",
    "store_data(STDs_genital_herpes, rows_cleaned, 'STDs:genital herpes')\n",
    "store_data(STDs_molluscum_contagiosum, rows_cleaned, 'STDs:molluscum contagiosum')\n",
    "store_data(STDs_AIDS, rows_cleaned, 'STDs:AIDS')\n",
    "store_data(STDs_HIV, rows_cleaned, 'STDs:HIV')\n",
    "store_data(STDs_Hepatitis_B, rows_cleaned, 'STDs:Hepatitis B')\n",
    "store_data(STDs_HPV, rows_cleaned, 'STDs:HPV')\n",
    "store_data(STDs_Number_of_diagnosis, rows_cleaned, 'STDs: Number of diagnosis')\n",
    "store_data(STDs_Time_since_first_diagnosis, rows_cleaned, 'STDs: Time since first diagnosis')\n",
    "print(STDs_Time_since_first_diagnosis)"
   ]
  },
  {
   "cell_type": "code",
   "execution_count": null,
   "metadata": {},
   "outputs": [
    {
     "name": "stdout",
     "output_type": "stream",
     "text": [
      "Index(['Dx:Cancer', 'Dx:CIN', 'Dx:HPV', 'Dx', 'Hinselmann', 'Schiller',\n",
      "       'Citology', 'Biopsy'],\n",
      "      dtype='object')\n"
     ]
    }
   ],
   "source": [
    "# Changing data back from list to data frame format\n",
    "lst = rows_cleaned\n",
    "df = pd.DataFrame(lst)\n",
    "\n",
    "# Find the name of columns 28 to 36\n",
    "print(df.columns[28:36])"
   ]
  },
  {
   "cell_type": "code",
   "execution_count": null,
   "metadata": {},
   "outputs": [
    {
     "name": "stdout",
     "output_type": "stream",
     "text": [
      "Dx:Cancer     0\n",
      "Dx:CIN        0\n",
      "Dx:HPV        0\n",
      "Dx            0\n",
      "Hinselmann    0\n",
      "Schiller      0\n",
      "Citology      0\n",
      "Biopsy        0\n",
      "dtype: int64\n"
     ]
    }
   ],
   "source": [
    "# To make the analysis of columns 28 to 36 easier, the creation of a subset that will only include those columns\n",
    "df_col = df[['Dx:Cancer', 'Dx:CIN', 'Dx:HPV', 'Dx', 'Hinselmann', 'Schiller','Citology', 'Biopsy']]\n",
    "# analyse if there is NaN/missing values in any of the columns\n",
    "nulls = df_col.isnull().sum()\n",
    "print(nulls)"
   ]
  },
  {
   "cell_type": "code",
   "execution_count": null,
   "metadata": {},
   "outputs": [
    {
     "name": "stdout",
     "output_type": "stream",
     "text": [
      "Dx:Cancer     0\n",
      "Dx:CIN        0\n",
      "Dx:HPV        0\n",
      "Dx            0\n",
      "Hinselmann    0\n",
      "Schiller      0\n",
      "Citology      0\n",
      "Biopsy        0\n",
      "dtype: object\n"
     ]
    }
   ],
   "source": [
    "# It has been highlighted that there are '?' characters instead of Nan \n",
    "# To make sure that no data is corrupted, the below code will check for any '?' values in the df\n",
    "find = df_col[df_col[['Dx:Cancer', 'Dx:CIN', 'Dx:HPV', 'Dx', 'Hinselmann', 'Schiller','Citology', 'Biopsy']] =='?'].sum()\n",
    "print(find)"
   ]
  },
  {
   "cell_type": "code",
   "execution_count": null,
   "metadata": {},
   "outputs": [
    {
     "name": "stdout",
     "output_type": "stream",
     "text": [
      "Dx:Cancer     1\n",
      "Dx:CIN        1\n",
      "Dx:HPV        1\n",
      "Dx            1\n",
      "Hinselmann    1\n",
      "Schiller      1\n",
      "Citology      1\n",
      "Biopsy        1\n",
      "dtype: object\n",
      "Dx:Cancer     0\n",
      "Dx:CIN        0\n",
      "Dx:HPV        0\n",
      "Dx            0\n",
      "Hinselmann    0\n",
      "Schiller      0\n",
      "Citology      0\n",
      "Biopsy        0\n",
      "dtype: object\n"
     ]
    }
   ],
   "source": [
    "# Values in columns 28 - 36 are booleans, to be sure that no other numerical values are present the below code will check for max and min values in the df\n",
    "print(df_col.max())\n",
    "print(df_col.min())"
   ]
  },
  {
   "cell_type": "markdown",
   "metadata": {},
   "source": [
    "Cleaning columns 10-18. First create a list of my column names. Count number of '?' in each column."
   ]
  },
  {
   "cell_type": "code",
   "execution_count": null,
   "metadata": {},
   "outputs": [
    {
     "data": {
      "text/plain": [
       "[{'IUD (years)': 22},\n",
       " {'STDs': 10},\n",
       " {'STDs (number)': 10},\n",
       " {'STDs:condylomatosis': 10},\n",
       " {'STDs:cervical condylomatosis': 10},\n",
       " {'STDs:vaginal condylomatosis': 10},\n",
       " {'STDs:vulvo-perineal condylomatosis': 10},\n",
       " {'STDs:syphilis': 10}]"
      ]
     },
     "execution_count": 11,
     "metadata": {},
     "output_type": "execute_result"
    }
   ],
   "source": [
    "# Create list of column names I will be working with using Toust's catergories variable.\n",
    "db_columns = categories[10:18]\n",
    "# Create function that counts the amount of '?' values in each column\n",
    "def clean_columns_10_18(column_names, list_of_data):\n",
    "    # initialize an empty list to append a dict of each column and '?' count to.\n",
    "    num_of_null = []\n",
    "    # iterate through each column name and initialize count to zero for each column.\n",
    "    for column in column_names:\n",
    "        count = 0\n",
    "        # iterate through each row of data and check to see if value in column is '?'. If so, add to counter.\n",
    "        for row in list_of_data:\n",
    "            if row[column] == '?':\n",
    "                count += 1\n",
    "        # Once through each column, append a dict with column name and '?' count to num_of_null list.\n",
    "        num_of_null.append({column: count})\n",
    "    return num_of_null\n",
    "clean_columns_10_18(db_columns, rows_cleaned)"
   ]
  },
  {
   "cell_type": "markdown",
   "metadata": {},
   "source": [
    "Look at each columns' values. Calculate the average of each column to see if viable to replace '?' w/ column average."
   ]
  },
  {
   "cell_type": "code",
   "execution_count": null,
   "metadata": {},
   "outputs": [
    {
     "name": "stdout",
     "output_type": "stream",
     "text": [
      "[{'IUD (years) Average': 0.514804318488529}, {'STDs Average': 0.1049136786188579}, {'STDs (number) Average': 0.17662682602921648}, {'STDs:condylomatosis Average': 0.05843293492695883}, {'STDs:cervical condylomatosis Average': 0.0}, {'STDs:vaginal condylomatosis Average': 0.005312084993359893}, {'STDs:vulvo-perineal condylomatosis Average': 0.057104913678618856}, {'STDs:syphilis Average': 0.02390438247011952}]\n"
     ]
    }
   ],
   "source": [
    "# Create function to append each column value to.\n",
    "def visualize(column_names, list_of_data):\n",
    "    # Create list full of dicts for each column and set equal to empty list.\n",
    "    my_columns = [{'IUD (years)': []},\n",
    " {'STDs': []},\n",
    " {'STDs (number)': []},\n",
    " {'STDs:condylomatosis': []},\n",
    " {'STDs:cervical condylomatosis': []},\n",
    " {'STDs:vaginal condylomatosis': []},\n",
    " {'STDs:vulvo-perineal condylomatosis': []},\n",
    " {'STDs:syphilis': []}]\n",
    "    # Create empty list to append column name and average to.\n",
    "    avg_column = []\n",
    "    # iterate through each column name (number corresponds to my_columns list).\n",
    "    for i, column in enumerate(column_names):\n",
    "        total = 0\n",
    "        count = 0\n",
    "        # iterate through each row in rows_cleaned\n",
    "        for row in list_of_data:\n",
    "            # for each value in column, check if '?'. If not, add each value to total and increment count by one. append each value to my_columns.\n",
    "            if row[column] != '?':\n",
    "                total += float(row[column])\n",
    "                count += 1\n",
    "                my_columns[i][column].append(float(row[column]))\n",
    "            # If value is '?', append, but don't convert to float.\n",
    "            else:\n",
    "                my_columns[i][column].append(row[column])\n",
    "        # after each value in column is iterated through, calculate average by dividing total by count. append to avg_column list.\n",
    "        avg_column.append({column + \" Average\": total/count})\n",
    "    return avg_column, my_columns\n",
    "db_column_averages, columns_to_visualize= visualize(db_columns, rows_cleaned)\n",
    "print(db_column_averages)"
   ]
  },
  {
   "cell_type": "markdown",
   "metadata": {},
   "source": [
    "Considering the averages of the columns. It would not be appropriate to replace the missing values with the column average. I will replace the values with "
   ]
  },
  {
   "cell_type": "code",
   "execution_count": null,
   "metadata": {},
   "outputs": [
    {
     "name": "stdout",
     "output_type": "stream",
     "text": [
      "[0    0.0\n",
      "Name: IUD (years), dtype: object, 0    0.0\n",
      "Name: STDs, dtype: object, 0    0.0\n",
      "Name: STDs (number), dtype: object, 0    0.0\n",
      "Name: STDs:condylomatosis, dtype: object, 0    0.0\n",
      "Name: STDs:cervical condylomatosis, dtype: object, 0    0.0\n",
      "Name: STDs:vaginal condylomatosis, dtype: object, 0    0.0\n",
      "Name: STDs:vulvo-perineal condylomatosis, dtype: object, 0    0.0\n",
      "Name: STDs:syphilis, dtype: object]\n"
     ]
    }
   ],
   "source": [
    "# Create function that takes list of columns as input and returns list of each column and it's mode.\n",
    "def column_mode(columns):\n",
    "    mode_column = []\n",
    "    # iterates through each column.\n",
    "    for i in columns:\n",
    "        # uses pandas and df to calculate mode of column\n",
    "        mode_column.append(df[i].mode())\n",
    "    return mode_column\n",
    "db_column_mode = column_mode(db_columns)\n",
    "print(db_column_mode)"
   ]
  },
  {
   "cell_type": "markdown",
   "metadata": {},
   "source": [
    "I will replace the '?' in my columns with 'NaN' to represent that the data for those instances is missing."
   ]
  },
  {
   "cell_type": "code",
   "execution_count": null,
   "metadata": {},
   "outputs": [
    {
     "name": "stdout",
     "output_type": "stream",
     "text": [
      "rows_cleaned dataset has been updated.\n"
     ]
    }
   ],
   "source": [
    "# Create function to replace each instance of '?' with NaN and convert each string to a float.\n",
    "def clean_columns(column_names, list_of_data):\n",
    "    for column in column_names:\n",
    "        count = 0\n",
    "        for row in list_of_data:\n",
    "            if row[column] == '?':\n",
    "                row[column] = 'NaN'\n",
    "            else:\n",
    "                row[column] = float(row[column])\n",
    "    return list_of_data\n",
    "clean_columns(db_columns, rows_cleaned)\n",
    "print(\"rows_cleaned dataset has been updated.\")"
   ]
  },
  {
   "cell_type": "markdown",
   "metadata": {},
   "source": [
    "Check to make sure columns are cleaned by re-initiating clean_columns_10_18() to count instances of '?'."
   ]
  },
  {
   "cell_type": "code",
   "execution_count": null,
   "metadata": {},
   "outputs": [
    {
     "data": {
      "text/plain": [
       "[{'IUD (years)': 0},\n",
       " {'STDs': 0},\n",
       " {'STDs (number)': 0},\n",
       " {'STDs:condylomatosis': 0},\n",
       " {'STDs:cervical condylomatosis': 0},\n",
       " {'STDs:vaginal condylomatosis': 0},\n",
       " {'STDs:vulvo-perineal condylomatosis': 0},\n",
       " {'STDs:syphilis': 0}]"
      ]
     },
     "execution_count": 15,
     "metadata": {},
     "output_type": "execute_result"
    }
   ],
   "source": [
    "clean_columns_10_18(db_columns, rows_cleaned)"
   ]
  },
  {
   "cell_type": "code",
   "execution_count": null,
   "metadata": {},
   "outputs": [],
   "source": []
  },
  {
   "cell_type": "markdown",
   "metadata": {},
   "source": [
    "For columns 1 through 9: \n",
    "1. List the names of the columns.\n",
    "2. Determine the number of missing data in each column.\n"
   ]
  },
  {
   "cell_type": "code",
   "execution_count": null,
   "metadata": {
    "scrolled": true
   },
   "outputs": [
    {
     "name": "stdout",
     "output_type": "stream",
     "text": [
      "Columns 1 through 9 are: \n",
      "Age\n",
      "Number of sexual partners\n",
      "First sexual intercourse\n",
      "Num of pregnancies\n",
      "Smokes\n",
      "Smokes (years)\n",
      "Smokes (packs/year)\n",
      "Hormonal Contraceptives\n",
      "Hormonal Contraceptives (years)\n"
     ]
    },
    {
     "data": {
      "text/plain": [
       "[{'Age': 0},\n",
       " {'Number of sexual partners': 14},\n",
       " {'First sexual intercourse': 6},\n",
       " {'Num of pregnancies': 50},\n",
       " {'Smokes': 10},\n",
       " {'Smokes (years)': 10},\n",
       " {'Smokes (packs/year)': 10},\n",
       " {'Hormonal Contraceptives': 13},\n",
       " {'Hormonal Contraceptives (years)': 13}]"
      ]
     },
     "execution_count": 16,
     "metadata": {},
     "output_type": "execute_result"
    }
   ],
   "source": [
    "# 1. List the names of the columns\n",
    "## Create list of column names I will be working with using Toust's categories variable.\n",
    "\n",
    "columns_1_9 = categories[0:9]\n",
    "print(\"Columns 1 through 9 are: \")\n",
    "for i in columns_1_9:\n",
    "    print(i)\n",
    "\n",
    "# 2. Determine number of missing data in each column.\n",
    "# # Reuse Danica's function that counts the amount of '?' values in each column\n",
    "def clean_columns_1_9(column_names, list_of_data):\n",
    "    # initialize an empty list to append a dict of each column and '?' count to.\n",
    "    num_of_null = []\n",
    "    # iterate through each column name and initialize count to zero for each column.\n",
    "    for column in column_names:\n",
    "        count = 0\n",
    "        # iterate through each row of data and check to see if value in column is '?'. If so, add to counter.\n",
    "        for row in list_of_data:\n",
    "            if row[column] == '?':\n",
    "                count += 1\n",
    "        # Once through each column, append a dict with column name and '?' count to num_of_null list.\n",
    "        num_of_null.append({column: count})\n",
    "    return num_of_null\n",
    "clean_columns_1_9(columns_1_9, rows_cleaned)\n",
    "\n",
    "\n",
    "\n",
    " \n"
   ]
  },
  {
   "cell_type": "markdown",
   "metadata": {},
   "source": [
    "3. Look for possibilities that missing data are not MCAR (Missing Completely at Random) and update accordingly based on the following logic: \n",
    "\n",
    "    Some columns are clearly related.  If \"Smokes\" == False, meaning the individual is a non-smoker, missing data in \"Smokes (years)\" and \"Smokes (packs/year)\" can be assumed to be 0. If \"Smokes\" is missing data but \"Smokes (years)\" or \"Smokes (packs/year)\" are positive integers, \"Smokes\" can be assumed == True.  \n",
    "    \n",
    "    The same principle is applied for \"Hormonal Contraceptives\" and \"Hormonal Contraceptives (years)\". "
   ]
  },
  {
   "cell_type": "code",
   "execution_count": null,
   "metadata": {},
   "outputs": [
    {
     "name": "stdout",
     "output_type": "stream",
     "text": [
      "rows where smoking is false and years of smoking is missing: 0\n",
      "rows where smoking is missing and years of smoking is neither missing nor zero: 0\n",
      "rows where smoking is false and years of smoking is missing: 0\n",
      "rows where smoking is missing and years of smoking is neither missing nor zero: 0\n",
      "rows where contraceptive use is false and years of use is missing: 0\n",
      "rows where contraceptive use is missing and years of use is neither missing nor zero: 0\n"
     ]
    }
   ],
   "source": [
    "##3.1 Compare smoking with number of years of smoking\n",
    "\n",
    "counter_3_1a = 0 \n",
    "for row in rows_cleaned:\n",
    "    # smoking is false and years of smoking is missing\n",
    "    if row['Smokes'] == '0' and row['Smokes (years)'] == '?':\n",
    "        counter_3_1a += 1\n",
    "    \n",
    "print(\"rows where smoking is false and years of smoking is missing: \" + str(counter_3_1a))\n",
    "\n",
    "\n",
    "counter_3_1b = 0 \n",
    "for row in rows_cleaned:\n",
    "    # smoking is missing and years of smoking is neither missing nor zero\n",
    "    if row['Smokes'] == '?':\n",
    "        if row['Smokes (years)'] != '?' and row['Smokes (years)'] != '0':\n",
    "            counter_3_1b += 1\n",
    "        \n",
    "print(\"rows where smoking is missing and years of smoking is neither missing nor zero: \" + str(counter_3_1b))\n",
    "\n",
    "#3.2 Compare smoking with packs per year\n",
    "\n",
    "counter_3_2a = 0 \n",
    "for row in rows_cleaned:\n",
    "    # smoking is false and packs per year is missing\n",
    "    if row['Smokes'] == '0' and row['Smokes (packs/year)'] == '?':\n",
    "        counter_3_2a += 1\n",
    "    \n",
    "print(\"rows where smoking is false and years of smoking is missing: \" + str(counter_3_2a))\n",
    "\n",
    "\n",
    "counter_3_2b = 0 \n",
    "for row in rows_cleaned:\n",
    "    # smoking is missing and years of smoking is neither missing nor zero\n",
    "    if row['Smokes'] == '?':\n",
    "        if row['Smokes (packs/year)'] != '?' and row['Smokes (packs/year)'] != '0':\n",
    "            counter_3_2b += 1\n",
    "    \n",
    "print(\"rows where smoking is missing and years of smoking is neither missing nor zero: \" + str(counter_3_2b))\n",
    "\n",
    "#3.3 Compare hormonal contraceptive use with years of use\n",
    "\n",
    "counter_3_3a = 0\n",
    "for row in rows_cleaned:\n",
    "    #use of Hormonal Contraceptives = false and years of use is missing\n",
    "    if row['Hormonal Contraceptives'] == '0' and row['Hormonal Contraceptives (years)'] == '?':\n",
    "            counter_3_3a += 1\n",
    "                                                     \n",
    "print(\"rows where contraceptive use is false and years of use is missing: \" + str(counter_3_3a))  \n",
    "                                                     \n",
    "counter_3_3b = 0\n",
    "for row in rows_cleaned:\n",
    "    #use of Hormonal Contraceptives is missing and years of use is neither missing nor zero\n",
    "    if row['Hormonal Contraceptives'] == '?':\n",
    "        if row['Hormonal Contraceptives (years)'] != '?' and row['Hormonal Contraceptives (years)'] != '0':\n",
    "            counter_3_3b += 1\n",
    "\n",
    "print(\"rows where contraceptive use is missing and years of use is neither missing nor zero: \" + str(counter_3_3a))  "
   ]
  },
  {
   "cell_type": "markdown",
   "metadata": {},
   "source": [
    "4. Since there are no missing data that can be inferred, proceed to cleaning by removing \"?\" and replacing with \"NaN\" and converting all data types from string to float. \n",
    "5. Check that all rows have been cleaned."
   ]
  },
  {
   "cell_type": "code",
   "execution_count": null,
   "metadata": {},
   "outputs": [
    {
     "name": "stdout",
     "output_type": "stream",
     "text": [
      "rows_cleaned dataset has been updated.\n",
      "[{'Age': 0}, {'Number of sexual partners': 0}, {'First sexual intercourse': 0}, {'Num of pregnancies': 0}, {'Smokes': 0}, {'Smokes (years)': 0}, {'Smokes (packs/year)': 0}, {'Hormonal Contraceptives': 0}, {'Hormonal Contraceptives (years)': 0}]\n"
     ]
    }
   ],
   "source": [
    "# Replace each instance of '?' with NaN and convert each string to a float using Danica's function\n",
    "\n",
    "def clean_columns(column_names, list_of_data):\n",
    "    for column in column_names:\n",
    "        for row in list_of_data:\n",
    "            if row[column] == '?':\n",
    "                row[column] = 'NaN'\n",
    "            else:\n",
    "                row[column] = float(row[column])\n",
    "    return list_of_data\n",
    "\n",
    "clean_columns_1_9 = clean_columns(columns_1_9, rows_cleaned)\n",
    "print(\"rows_cleaned dataset has been updated.\")\n",
    "\n",
    "\n",
    "# 5. Check that all rows have been cleaned using Danica's function\n",
    "def check_columns_1_9(column_names, list_of_data):\n",
    "    # initialize an empty list to append a dict of each column and '?' count to.\n",
    "    num_of_null = []\n",
    "    # iterate through each column name and initialize count to zero for each column.\n",
    "    for column in column_names:\n",
    "        count = 0\n",
    "        # iterate through each row of data and check to see if value in column is '?'. If so, add to counter.\n",
    "        for row in list_of_data:\n",
    "            if row[column] == '?':\n",
    "                count += 1\n",
    "        # Once through each column, append a dict with column name and '?' count to num_of_null list.\n",
    "        num_of_null.append({column: count})\n",
    "    return num_of_null\n",
    "\n",
    "cleaning_check_1_9 = check_columns_1_9(columns_1_9, rows_cleaned)\n",
    "\n",
    "print(cleaning_check_1_9)"
   ]
  },
  {
   "cell_type": "markdown",
   "metadata": {},
   "source": [
    "#### To merge everything into a single cleaned dataframe for subsequent analysis\n",
    "\n",
    "1. Clean all columns\n",
    "2. Check all columns\n",
    "3. change the array to pandas dataframe"
   ]
  },
  {
   "cell_type": "code",
   "execution_count": null,
   "metadata": {},
   "outputs": [
    {
     "name": "stdout",
     "output_type": "stream",
     "text": [
      "[{'Age': 0}, {'Number of sexual partners': 0}, {'First sexual intercourse': 0}, {'Num of pregnancies': 0}, {'Smokes': 0}, {'Smokes (years)': 0}, {'Smokes (packs/year)': 0}, {'Hormonal Contraceptives': 0}, {'Hormonal Contraceptives (years)': 0}, {'IUD': 0}, {'IUD (years)': 0}, {'STDs': 0}, {'STDs (number)': 0}, {'STDs:condylomatosis': 0}, {'STDs:cervical condylomatosis': 0}, {'STDs:vaginal condylomatosis': 0}, {'STDs:vulvo-perineal condylomatosis': 0}, {'STDs:syphilis': 0}, {'STDs:pelvic inflammatory disease': 0}, {'STDs:genital herpes': 0}, {'STDs:molluscum contagiosum': 0}, {'STDs:AIDS': 0}, {'STDs:HIV': 0}, {'STDs:Hepatitis B': 0}, {'STDs:HPV': 0}, {'STDs: Number of diagnosis': 0}, {'STDs: Time since first diagnosis': 0}, {'STDs: Time since last diagnosis': 0}, {'Dx:Cancer': 0}, {'Dx:CIN': 0}, {'Dx:HPV': 0}, {'Dx': 0}, {'Hinselmann': 0}, {'Schiller': 0}, {'Citology': 0}, {'Biopsy': 0}]\n",
      "    Age  Number of sexual partners  First sexual intercourse  \\\n",
      "0  18.0                        4.0                      15.0   \n",
      "1  15.0                        1.0                      14.0   \n",
      "2  34.0                        1.0                       NaN   \n",
      "3  52.0                        5.0                      16.0   \n",
      "4  46.0                        3.0                      21.0   \n",
      "5  42.0                        3.0                      23.0   \n",
      "6  51.0                        3.0                      17.0   \n",
      "7  26.0                        1.0                      26.0   \n",
      "8  45.0                        1.0                      20.0   \n",
      "9  44.0                        3.0                      15.0   \n",
      "\n",
      "   Num of pregnancies  Smokes  Smokes (years)  Smokes (packs/year)  \\\n",
      "0                 1.0     0.0        0.000000                  0.0   \n",
      "1                 1.0     0.0        0.000000                  0.0   \n",
      "2                 1.0     0.0        0.000000                  0.0   \n",
      "3                 4.0     1.0       37.000000                 37.0   \n",
      "4                 4.0     0.0        0.000000                  0.0   \n",
      "5                 2.0     0.0        0.000000                  0.0   \n",
      "6                 6.0     1.0       34.000000                  3.4   \n",
      "7                 3.0     0.0        0.000000                  0.0   \n",
      "8                 5.0     0.0        0.000000                  0.0   \n",
      "9                 NaN     1.0        1.266973                  2.8   \n",
      "\n",
      "   Hormonal Contraceptives  Hormonal Contraceptives (years)  IUD  ...  \\\n",
      "0                      0.0                              0.0  0.0  ...   \n",
      "1                      0.0                              0.0  0.0  ...   \n",
      "2                      0.0                              0.0  0.0  ...   \n",
      "3                      1.0                              3.0  0.0  ...   \n",
      "4                      1.0                             15.0  0.0  ...   \n",
      "5                      0.0                              0.0  0.0  ...   \n",
      "6                      0.0                              0.0  1.0  ...   \n",
      "7                      1.0                              2.0  1.0  ...   \n",
      "8                      0.0                              0.0  0.0  ...   \n",
      "9                      0.0                              0.0  NaN  ...   \n",
      "\n",
      "   STDs: Time since first diagnosis  STDs: Time since last diagnosis  \\\n",
      "0                               NaN                              NaN   \n",
      "1                               NaN                              NaN   \n",
      "2                               NaN                              NaN   \n",
      "3                               NaN                              NaN   \n",
      "4                               NaN                              NaN   \n",
      "5                               NaN                              NaN   \n",
      "6                               NaN                              NaN   \n",
      "7                               NaN                              NaN   \n",
      "8                               NaN                              NaN   \n",
      "9                               NaN                              NaN   \n",
      "\n",
      "   Dx:Cancer  Dx:CIN  Dx:HPV   Dx  Hinselmann  Schiller Citology Biopsy  \n",
      "0        0.0     0.0     0.0  0.0         0.0       0.0      0.0    0.0  \n",
      "1        0.0     0.0     0.0  0.0         0.0       0.0      0.0    0.0  \n",
      "2        0.0     0.0     0.0  0.0         0.0       0.0      0.0    0.0  \n",
      "3        1.0     0.0     1.0  0.0         0.0       0.0      0.0    0.0  \n",
      "4        0.0     0.0     0.0  0.0         0.0       0.0      0.0    0.0  \n",
      "5        0.0     0.0     0.0  0.0         0.0       0.0      0.0    0.0  \n",
      "6        0.0     0.0     0.0  0.0         1.0       1.0      0.0    1.0  \n",
      "7        0.0     0.0     0.0  0.0         0.0       0.0      0.0    0.0  \n",
      "8        1.0     0.0     1.0  1.0         0.0       0.0      0.0    0.0  \n",
      "9        0.0     0.0     0.0  0.0         0.0       0.0      0.0    0.0  \n",
      "\n",
      "[10 rows x 36 columns]\n",
      "Age                                   float64\n",
      "Number of sexual partners             float64\n",
      "First sexual intercourse              float64\n",
      "Num of pregnancies                    float64\n",
      "Smokes                                float64\n",
      "Smokes (years)                        float64\n",
      "Smokes (packs/year)                   float64\n",
      "Hormonal Contraceptives               float64\n",
      "Hormonal Contraceptives (years)       float64\n",
      "IUD                                    object\n",
      "IUD (years)                           float64\n",
      "STDs                                  float64\n",
      "STDs (number)                         float64\n",
      "STDs:condylomatosis                   float64\n",
      "STDs:cervical condylomatosis          float64\n",
      "STDs:vaginal condylomatosis           float64\n",
      "STDs:vulvo-perineal condylomatosis    float64\n",
      "STDs:syphilis                         float64\n",
      "STDs:pelvic inflammatory disease       object\n",
      "STDs:genital herpes                    object\n",
      "STDs:molluscum contagiosum             object\n",
      "STDs:AIDS                              object\n",
      "STDs:HIV                               object\n",
      "STDs:Hepatitis B                       object\n",
      "STDs:HPV                               object\n",
      "STDs: Number of diagnosis             float64\n",
      "STDs: Time since first diagnosis       object\n",
      "STDs: Time since last diagnosis        object\n",
      "Dx:Cancer                             float64\n",
      "Dx:CIN                                float64\n",
      "Dx:HPV                                float64\n",
      "Dx                                    float64\n",
      "Hinselmann                            float64\n",
      "Schiller                              float64\n",
      "Citology                              float64\n",
      "Biopsy                                float64\n",
      "dtype: object\n"
     ]
    }
   ],
   "source": [
    "# 1. cleaning all\n",
    "def clean_all_columns(column_names, list_of_data):\n",
    "    for column in column_names:\n",
    "        for row in list_of_data:\n",
    "            if row[column] == '?':\n",
    "                row[column] = 'NaN'\n",
    "            else:\n",
    "                row[column] = float(row[column])\n",
    "    return list_of_data\n",
    "\n",
    "all_columns_cleaned = clean_all_columns(categories, rows_cleaned)\n",
    "\n",
    "\n",
    "\n",
    "\n",
    "# 2. checking all\n",
    "\n",
    "def check_all_columns(column_names, list_of_data):\n",
    "    # initialize an empty list to append a dict of each column and '?' count to.\n",
    "    num_of_null = []\n",
    "    # iterate through each column name and initialize count to zero for each column.\n",
    "    for column in column_names:\n",
    "        count = 0\n",
    "        # iterate through each row of data and check to see if value in column is '?'. If so, add to counter.\n",
    "        for row in list_of_data:\n",
    "            if row[column] == '?':\n",
    "                count += 1\n",
    "        # Once through each column, append a dict with column name and '?' count to num_of_null list.\n",
    "        num_of_null.append({column: count})\n",
    "    return num_of_null\n",
    "\n",
    "cleaning_check_all = check_all_columns(categories, rows_cleaned)\n",
    "\n",
    "print(cleaning_check_all)\n",
    "\n",
    "# 3. change array to pandas dataframe \n",
    "\n",
    "cleaned_dataset = rows_cleaned\n",
    "cc_df = pd.DataFrame(cleaned_dataset)\n",
    "\n",
    "print(cc_df.head(10))\n",
    "\n",
    "print (cc_df.dtypes) #check that all data are now floats\n"
   ]
  },
  {
   "cell_type": "code",
   "execution_count": null,
   "metadata": {},
   "outputs": [
    {
     "name": "stdout",
     "output_type": "stream",
     "text": [
      "    Age  Number of sexual partners  First sexual intercourse  \\\n",
      "0  18.0                        4.0                      15.0   \n",
      "1  15.0                        1.0                      14.0   \n",
      "2  34.0                        1.0                       NaN   \n",
      "3  52.0                        5.0                      16.0   \n",
      "4  46.0                        3.0                      21.0   \n",
      "5  42.0                        3.0                      23.0   \n",
      "6  51.0                        3.0                      17.0   \n",
      "7  26.0                        1.0                      26.0   \n",
      "8  45.0                        1.0                      20.0   \n",
      "9  44.0                        3.0                      15.0   \n",
      "\n",
      "   Num of pregnancies  Smokes  Smokes (years)  Smokes (packs/year)  \\\n",
      "0                 1.0     0.0        0.000000                  0.0   \n",
      "1                 1.0     0.0        0.000000                  0.0   \n",
      "2                 1.0     0.0        0.000000                  0.0   \n",
      "3                 4.0     1.0       37.000000                 37.0   \n",
      "4                 4.0     0.0        0.000000                  0.0   \n",
      "5                 2.0     0.0        0.000000                  0.0   \n",
      "6                 6.0     1.0       34.000000                  3.4   \n",
      "7                 3.0     0.0        0.000000                  0.0   \n",
      "8                 5.0     0.0        0.000000                  0.0   \n",
      "9                 NaN     1.0        1.266973                  2.8   \n",
      "\n",
      "   Hormonal Contraceptives  Hormonal Contraceptives (years)  IUD  ...  \\\n",
      "0                      0.0                              0.0  0.0  ...   \n",
      "1                      0.0                              0.0  0.0  ...   \n",
      "2                      0.0                              0.0  0.0  ...   \n",
      "3                      1.0                              3.0  0.0  ...   \n",
      "4                      1.0                             15.0  0.0  ...   \n",
      "5                      0.0                              0.0  0.0  ...   \n",
      "6                      0.0                              0.0  1.0  ...   \n",
      "7                      1.0                              2.0  1.0  ...   \n",
      "8                      0.0                              0.0  0.0  ...   \n",
      "9                      0.0                              0.0  NaN  ...   \n",
      "\n",
      "   STDs: Time since first diagnosis  STDs: Time since last diagnosis  \\\n",
      "0                               NaN                              NaN   \n",
      "1                               NaN                              NaN   \n",
      "2                               NaN                              NaN   \n",
      "3                               NaN                              NaN   \n",
      "4                               NaN                              NaN   \n",
      "5                               NaN                              NaN   \n",
      "6                               NaN                              NaN   \n",
      "7                               NaN                              NaN   \n",
      "8                               NaN                              NaN   \n",
      "9                               NaN                              NaN   \n",
      "\n",
      "   Dx:Cancer  Dx:CIN  Dx:HPV   Dx  Hinselmann  Schiller Citology Biopsy  \n",
      "0        0.0     0.0     0.0  0.0         0.0       0.0      0.0    0.0  \n",
      "1        0.0     0.0     0.0  0.0         0.0       0.0      0.0    0.0  \n",
      "2        0.0     0.0     0.0  0.0         0.0       0.0      0.0    0.0  \n",
      "3        1.0     0.0     1.0  0.0         0.0       0.0      0.0    0.0  \n",
      "4        0.0     0.0     0.0  0.0         0.0       0.0      0.0    0.0  \n",
      "5        0.0     0.0     0.0  0.0         0.0       0.0      0.0    0.0  \n",
      "6        0.0     0.0     0.0  0.0         1.0       1.0      0.0    1.0  \n",
      "7        0.0     0.0     0.0  0.0         0.0       0.0      0.0    0.0  \n",
      "8        1.0     0.0     1.0  1.0         0.0       0.0      0.0    0.0  \n",
      "9        0.0     0.0     0.0  0.0         0.0       0.0      0.0    0.0  \n",
      "\n",
      "[10 rows x 36 columns]\n"
     ]
    }
   ],
   "source": [
    "print(cc_df.head(10))"
   ]
  },
  {
   "cell_type": "code",
   "execution_count": null,
   "metadata": {},
   "outputs": [],
   "source": []
  }
 ],
 "metadata": {
  "kernelspec": {
   "display_name": "Python 3 (ipykernel)",
   "language": "python",
   "name": "python3"
  },
  "language_info": {
   "codemirror_mode": {
    "name": "ipython",
    "version": 3
   },
   "file_extension": ".py",
   "mimetype": "text/x-python",
   "name": "python",
   "nbconvert_exporter": "python",
   "pygments_lexer": "ipython3",
   "version": "3.9.13"
  },
  "vscode": {
   "interpreter": {
    "hash": "c3d8a8be75f9e7e90c92f56a26dc284ac664b6f4edfe25f866cebb8c85a664d9"
   }
  }
 },
 "nbformat": 4,
 "nbformat_minor": 2
}
